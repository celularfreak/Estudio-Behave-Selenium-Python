{
 "cells": [
  {
   "cell_type": "code",
   "execution_count": 30,
   "id": "b215de47",
   "metadata": {},
   "outputs": [],
   "source": [
    "from selenium import webdriver\n",
    "from selenium.webdriver.common.keys import Keys\n",
    "from selenium.webdriver.chrome.service import Service as ChromeService\n",
    "from webdriver_manager.chrome import ChromeDriverManager\n",
    "from selenium.webdriver.support.ui import WebDriverWait\n",
    "from selenium.webdriver.support import expected_conditions as EC\n",
    "from selenium.webdriver.common.by import By"
   ]
  },
  {
   "cell_type": "code",
   "execution_count": 31,
   "id": "3bf3e3c3",
   "metadata": {},
   "outputs": [
    {
     "name": "stdout",
     "output_type": "stream",
     "text": [
      "\n"
     ]
    },
    {
     "name": "stderr",
     "output_type": "stream",
     "text": [
      "[WDM] - ====== WebDriver manager ======\n",
      "[WDM] - Current google-chrome version is 103.0.5060\n",
      "[WDM] - Get LATEST chromedriver version for 103.0.5060 google-chrome\n",
      "[WDM] - Driver [/home/celularfreak/.wdm/drivers/chromedriver/linux64/103.0.5060.53/chromedriver] found in cache\n"
     ]
    }
   ],
   "source": [
    "driver = webdriver.Chrome(service=ChromeService(ChromeDriverManager().install()))\n"
   ]
  },
  {
   "cell_type": "code",
   "execution_count": 32,
   "id": "5dcb6a00",
   "metadata": {},
   "outputs": [],
   "source": [
    "a = driver.get(\"https://intra.42.fr\")"
   ]
  },
  {
   "cell_type": "code",
   "execution_count": 33,
   "id": "2d4f895e",
   "metadata": {},
   "outputs": [],
   "source": [
    "a = driver.find_element(By.XPATH, \"//input[@placeholder='Login']\")"
   ]
  },
  {
   "cell_type": "code",
   "execution_count": 26,
   "id": "d0bcb4d8",
   "metadata": {},
   "outputs": [],
   "source": [
    "a = driver.find_element(By.XPATH, \"//*[@id='user_login']\")"
   ]
  },
  {
   "cell_type": "code",
   "execution_count": 34,
   "id": "cb8e7fc2",
   "metadata": {},
   "outputs": [],
   "source": [
    "a.send_keys(\"cacatoto\")"
   ]
  },
  {
   "cell_type": "code",
   "execution_count": null,
   "id": "9a06be1e",
   "metadata": {},
   "outputs": [],
   "source": []
  }
 ],
 "metadata": {
  "kernelspec": {
   "display_name": "Python 3 (ipykernel)",
   "language": "python",
   "name": "python3"
  },
  "language_info": {
   "codemirror_mode": {
    "name": "ipython",
    "version": 3
   },
   "file_extension": ".py",
   "mimetype": "text/x-python",
   "name": "python",
   "nbconvert_exporter": "python",
   "pygments_lexer": "ipython3",
   "version": "3.10.4"
  }
 },
 "nbformat": 4,
 "nbformat_minor": 5
}
